{
 "cells": [
  {
   "cell_type": "code",
   "execution_count": 8,
   "id": "0722d647-7e7e-4757-a5a9-d9fa4e7ece23",
   "metadata": {},
   "outputs": [
    {
     "name": "stdout",
     "output_type": "stream",
     "text": [
      "1\n",
      "2\n",
      "3\n",
      "6\n",
      "5\n",
      "4\n",
      "9\n",
      "8\n",
      "#################################################\n",
      "1\n",
      "4\n",
      "5\n",
      "6\n",
      "2\n"
     ]
    }
   ],
   "source": [
    "# Question 1\n",
    "#For loop is used then the number of itteration is known\n",
    "#example\n",
    "l=[1,2,3,6,5,4,9,8]\n",
    "for i  in l :\n",
    "    print(i)\n",
    "print(\"#################################################\")\n",
    "#While loop is used when we dont know the number of itterations\n",
    "#Example\n",
    "L=[1,4,5,6,2,1,5,10,54651,45,15]\n",
    "i=0\n",
    "while i<5:\n",
    "    print(L[i])\n",
    "    i=i+1\n"
   ]
  },
  {
   "cell_type": "code",
   "execution_count": 2,
   "id": "5d644cfe-3299-4684-84eb-9ad0d3cef287",
   "metadata": {},
   "outputs": [
    {
     "name": "stdout",
     "output_type": "stream",
     "text": [
      "1\n",
      "3\n",
      "6\n",
      "10\n",
      "15\n",
      "21\n",
      "28\n",
      "36\n",
      "45\n",
      "55\n",
      "#################################################\n",
      "1\n",
      "2\n",
      "6\n",
      "24\n",
      "120\n",
      "720\n",
      "5040\n",
      "40320\n",
      "362880\n",
      "3628800\n"
     ]
    }
   ],
   "source": [
    "# Question2 sum and product of the first 10 natural numbers using for loop\n",
    "\n",
    "a=0\n",
    "for i in range(1,11):\n",
    "    a=a+i\n",
    "    print(a)\n",
    "print(\"#################################################\")\n",
    "b=1\n",
    "for i in range(1,11):\n",
    "    b=b*i\n",
    "    print(b)\n",
    "    \n",
    "\n",
    "# sum and product of the first 10 natural numbers using while loop\\\n",
    "\n",
    "a=0\n",
    "i=1\n",
    "while i<=10:\n",
    "    a=a+i\n",
    "    print(a)\n",
    "    i=i+1\n",
    "print(\"#################################################\")\n",
    "b=1\n",
    "i=1\n",
    "while i<=10:\n",
    "    b=b*i\n",
    "    print(b)\n",
    "    i=i+1\n",
    "\n",
    "\n",
    "\n",
    "\n"
   ]
  },
  {
   "cell_type": "code",
   "execution_count": 7,
   "id": "f599ed18-08eb-40c9-9d2d-5575de797e7f",
   "metadata": {},
   "outputs": [
    {
     "name": "stdin",
     "output_type": "stream",
     "text": [
      "Enter your electricity bill reading :  310\n"
     ]
    },
    {
     "name": "stdout",
     "output_type": "stream",
     "text": [
      "Your bill is Rs 2250.0 \n"
     ]
    }
   ],
   "source": [
    "#Question 3 solution\n",
    "\n",
    "reading=int(input(\"Enter your electricity bill reading : \"))\n",
    "if reading<=100:\n",
    "    bill=4.5*reading\n",
    "    print(f\"Your bill is Rs {bill} \")\n",
    "\n",
    "elif reading>100 and reading<=200:\n",
    "    bill=(4.5*100)+(6*(reading-100))\n",
    "    print(f\"Your bill is Rs {bill} \")\n",
    "\n",
    "elif reading>200 and reading<=300:\n",
    "    bill=(4.5*100)+(6*100)+(10*(reading-200))\n",
    "    print(f\"Your bill is Rs {bill} \")\n",
    "\n",
    "elif reading>300:\n",
    "    bill=(4.5*100)+(6*100)+(10*100)+(20*(reading-300))\n",
    "    print(f\"Your bill is Rs {bill} \")"
   ]
  },
  {
   "cell_type": "code",
   "execution_count": null,
   "id": "acae08f0-838b-49cb-a8b8-d76a06991f34",
   "metadata": {},
   "outputs": [],
   "source": [
    "# Question 4 solution using for loop\n",
    "num =[]\n",
    "for i in range(1,101):\n",
    "    num.append(i**3)\n",
    "    \n",
    "print(num)\n",
    "num1=[]  \n",
    "for i in num:\n",
    "    if i%4==0 or i%5==0:\n",
    "        print(i)\n",
    "        num1.append(i)\n",
    "print(num1)\n",
    "\n",
    "# same solution using while loop\n"
   ]
  },
  {
   "cell_type": "code",
   "execution_count": null,
   "id": "9ffeeb64-9869-4eb7-ad61-1801bc24c6d3",
   "metadata": {},
   "outputs": [],
   "source": []
  }
 ],
 "metadata": {
  "kernelspec": {
   "display_name": "Python 3 (ipykernel)",
   "language": "python",
   "name": "python3"
  },
  "language_info": {
   "codemirror_mode": {
    "name": "ipython",
    "version": 3
   },
   "file_extension": ".py",
   "mimetype": "text/x-python",
   "name": "python",
   "nbconvert_exporter": "python",
   "pygments_lexer": "ipython3",
   "version": "3.10.8"
  }
 },
 "nbformat": 4,
 "nbformat_minor": 5
}
